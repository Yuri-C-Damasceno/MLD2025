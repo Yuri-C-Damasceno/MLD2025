{
 "cells": [
  {
   "cell_type": "markdown",
   "id": "800facae-38d2-48e5-bfb3-802979a087e9",
   "metadata": {},
   "source": [
    "<table width=\"100%\">\n",
    "    <td align=\"left\">\n",
    "        <a target=\"_blank\", href=\"https://www.up.pt/fcup/en/\">\n",
    "            <img src=\"https://divulgacao.iastro.pt/wp-content/uploads/2023/03/FCUP_logo-print_blcktransp_600ppi.png\" width=\"90px\" height=\"90px\" style=\"padding-bottom:5px;\"/>\n",
    "        </a>\n",
    "    </td>\n",
    "    <td>\n",
    "        <a target=\"_blank\", href=\"https://www.iastro.pt/\">\n",
    "            <img src=\"https://divulgacao.iastro.pt/wp-content/uploads/2018/03/IA_logo_bitmap-rgbblack-1200px-388x259.png\" width=\"90px\" height=\"90px\" style=\"padding-bottom:5px;\"/>\n",
    "        </a>\n",
    "    </td>\n",
    "    <td align=\"center\">\n",
    "        <a target=\"_blank\" href=\"https://colab.research.google.com/github/jbrinchmann/MLD2025/blob/main/Notebooks/MLD2025-01c-Python%20and%20SQL.ipynb\">\n",
    "           <img src=\"https://tinyurl.com/3mm2cyk6\"  width=\"90px\" height=\"90px\" style=\"padding-bottom:5px;\"/>Run in Google Colab\n",
    "        </a>\n",
    "    </td>\n",
    "<td align=\"center\"><a target=\"_blank\" href=\"https://github.com/jbrinchmann/MLD2025/blob/main/Notebooks/MLD2025-01c-Python%20and%20SQL.ipynb\">\n",
    "<img src=\"https://tinyurl.com/25h5fw53\"  width=\"90px\" height=\"60px\" style=\"padding-bottom:0px;\"  />View Source on GitHub</a></td>\n",
    "</table>"
   ]
  },
  {
   "cell_type": "markdown",
   "id": "59c449ef-60fe-4eef-ab74-5938c5487ce5",
   "metadata": {},
   "source": [
    "# Python and SQL\n",
    "\n",
    "Here we will try a couple of ways to query a database with Python.  We will start with the built-in option in python - `sqlite3`. You should always have this available and it is lightweight. In order to make use of this, we need a simple database - in the lecture notes, or doing the first exercise you can create this file. If you are on Google Colab you need to copy this file into your runtime so the first line does that:\n",
    "\n"
   ]
  },
  {
   "cell_type": "code",
   "execution_count": 1,
   "id": "a06254b2-5172-4bfc-b619-cd1e9cec2269",
   "metadata": {},
   "outputs": [],
   "source": [
    "#!wget --quiet -O MLD2025.db https://github.com/jbrinchmann/MLD2025/blob/main/ProblemSets/MakeTables/MLD2025.db"
   ]
  },
  {
   "cell_type": "code",
   "execution_count": 2,
   "id": "27eb1bc4-67f9-4946-8c89-33a183110fe2",
   "metadata": {},
   "outputs": [],
   "source": [
    "import sqlite3 as lite"
   ]
  },
  {
   "cell_type": "code",
   "execution_count": 3,
   "id": "07ec9596-f32c-4c9e-b82c-9d13e56896ab",
   "metadata": {},
   "outputs": [],
   "source": [
    "con = lite.connect('../MLD2025.db')"
   ]
  },
  {
   "cell_type": "markdown",
   "id": "049d49c7-d78d-4e83-847b-61ae51c6bdff",
   "metadata": {},
   "source": [
    "We now have a connection to the database. We can launch queries through this to search the database. Here are some examples"
   ]
  },
  {
   "cell_type": "markdown",
   "id": "fc24a5c5-d415-4540-b904-b048bee18d28",
   "metadata": {},
   "source": [
    "## Getting an overview of a database\n",
    "\n",
    "In our case here we have the code (if you look a bit) for how the database was created, but sometimes you are not as lucky. In that case there is usually a way to get a list of the tables etc - for sqlite this is done as follows to get the tables:"
   ]
  },
  {
   "cell_type": "code",
   "execution_count": 4,
   "id": "af901aa2-7eb9-4103-9ae2-5e5af4ee15b2",
   "metadata": {},
   "outputs": [
    {
     "name": "stdout",
     "output_type": "stream",
     "text": [
      "[('Stars',), ('Observations',)]\n"
     ]
    }
   ],
   "source": [
    "with con:\n",
    "    cur = con.cursor()\n",
    "    cur.execute(\"SELECT name FROM sqlite_master WHERE type='table';\")\n",
    "    print(cur.fetchall())"
   ]
  },
  {
   "cell_type": "markdown",
   "id": "3851af24-516e-43c1-b453-7467597b90e4",
   "metadata": {},
   "source": [
    "If instead you want to see the SQL used to create the table you can do:"
   ]
  },
  {
   "cell_type": "code",
   "execution_count": 5,
   "id": "5d2cce62-3ff5-442d-827b-29a81bce54df",
   "metadata": {},
   "outputs": [
    {
     "name": "stdout",
     "output_type": "stream",
     "text": [
      "CREATE TABLE Stars (StarID INT,\n",
      "    \t\t\t FieldID INT, Star varchar(10), ra DOUBLE,\n",
      "    \t\t\t decl DOUBLE, g FLOAT, r FLOAT,\n",
      "    \t\t\t UNIQUE(StarID), PRIMARY KEY(StarID),\n",
      "    \t\t\t FOREIGN KEY(FieldID) REFERENCES Observations(ID))\n"
     ]
    }
   ],
   "source": [
    "with con:\n",
    "    cur = con.cursor()\n",
    "    cur.execute(\"SELECT sql FROM sqlite_master WHERE type='table' AND name='Stars';\")\n",
    "    lines = cur.fetchall()\n",
    "print(lines[0][0]) # Just to get better formatting..."
   ]
  },
  {
   "cell_type": "markdown",
   "id": "eb61ff9e-e7a0-4f18-b6eb-5341922d65a4",
   "metadata": {},
   "source": [
    "## Exploring the tables\n",
    "\n",
    "Let us now do something more useful - for a first try, we will just print out the stars that are in the Stars table. This is easily done as follows:"
   ]
  },
  {
   "cell_type": "code",
   "execution_count": 6,
   "id": "4406b8c0-d331-4c70-bfa9-1abb42760cb9",
   "metadata": {},
   "outputs": [
    {
     "name": "stdout",
     "output_type": "stream",
     "text": [
      "[('S1',), ('S2',), ('S5',), ('S7',)]\n"
     ]
    }
   ],
   "source": [
    "with con:\n",
    "    # Get a cursor.\n",
    "    cur = con.cursor()\n",
    "\n",
    "    query = \"SELECT star FROM stars\" \n",
    "    # Execute commands\n",
    "    rows = cur.execute(query)\n",
    "    print(rows.fetchall())"
   ]
  },
  {
   "cell_type": "markdown",
   "id": "7ef1327c-1d15-4643-bcc0-abc9949fbd02",
   "metadata": {},
   "source": [
    "Note that the case does not matter - I asked for table `stars` even though the table is called `Stars` above - same thing. Likewise, I have capitalized the commands `SELECT` and `FROM` but that is again case-insensitive.\n",
    "\n",
    "I used `fetchall` to get all rows above, but the output is not very pretty - so it is usually better to take more control over the fetching and for large databases this is essential! Here is a slightly more involved example which joins the Stars and Observations tables and then loops over the results to print the results more nicely:"
   ]
  },
  {
   "cell_type": "code",
   "execution_count": 7,
   "id": "17cbb9d8-127d-4068-98d7-a77b626daab0",
   "metadata": {},
   "outputs": [],
   "source": [
    "with con:\n",
    "    # Get a cursor.\n",
    "    cur = con.cursor()\n",
    "\n",
    "    query = \"select s.star, o.Date from stars as s JOIN observations as o ON s.fieldID=o.ID\" \n",
    "    # Execute commands\n",
    "    rows = cur.execute(query)"
   ]
  },
  {
   "cell_type": "markdown",
   "id": "72a208f1-fb92-4861-8de9-4f9b2f06ae30",
   "metadata": {},
   "source": [
    "The `rows` variable now contains a cursor object which points to the results table. To get values out from it we need to loop over it."
   ]
  },
  {
   "cell_type": "code",
   "execution_count": 8,
   "id": "1a233d34-b319-4bb6-a0da-dc27dd7d65dd",
   "metadata": {},
   "outputs": [
    {
     "name": "stdout",
     "output_type": "stream",
     "text": [
      "Star = S1 was observed  at 92.9885764\n",
      "Star = S2 was observed  at 92.9885764\n",
      "Star = S5 was observed  at 93.5532134\n",
      "Star = S7 was observed  at 97.3323764\n"
     ]
    }
   ],
   "source": [
    "for row in rows:\n",
    "    this_star, this_date = row\n",
    "    print(\"Star = {0} was observed  at {1}\".format(this_star, this_date))"
   ]
  },
  {
   "cell_type": "markdown",
   "id": "8f4c1ed0-4515-4d44-9580-736e23caee75",
   "metadata": {},
   "source": [
    "**Try:** run the cell above again. What happened? Why?"
   ]
  },
  {
   "cell_type": "markdown",
   "id": "b44d2823-c419-4994-b398-d578ea46bdec",
   "metadata": {},
   "source": [
    "### Task:\n",
    "\n",
    "Now try to use the preceding to answer this question:\n",
    "\n",
    "- Where is the FITS image stored for star S5?"
   ]
  },
  {
   "cell_type": "code",
   "execution_count": 9,
   "id": "b5b7a5bb-9619-4282-9afb-69c02321425a",
   "metadata": {},
   "outputs": [
    {
     "name": "stdout",
     "output_type": "stream",
     "text": [
      "[('S5', '/disks/yaeps-1/StF-045.fits')]\n"
     ]
    }
   ],
   "source": [
    "with con:\n",
    "    cur = con.cursor()\n",
    "    query = \"SELECT s.star, o.WhereStored FROM stars AS s JOIN observations as o ON s.fieldID=o.ID WHERE s.star='S5'\"\n",
    "    rows = cur.execute(query)\n",
    "    print(rows.fetchall())"
   ]
  },
  {
   "cell_type": "markdown",
   "id": "8d6ff18f-0f4b-4d07-99d2-22d716174db2",
   "metadata": {},
   "source": [
    "# Python and SQL - the Pandas way\n",
    "\n",
    "The approach above using `sqlite3` will always work regardless of the python installation but it is a bit clunky so you might wonder whether a better way exists, and in a number of contexts the answer is yes. \n",
    "\n",
    "This easier way is provided by [pandas](https://pandas.pydata.org/), a fairly heavy but powerful package to interact with tabular data of various types. It is widely used in both academia and industry and hence is a useful tool to know. However this might not be the best approach if your database is very large - caveat emptor."
   ]
  },
  {
   "cell_type": "code",
   "execution_count": 10,
   "id": "3ac68869-2380-4bd8-adc7-9ed223b06253",
   "metadata": {},
   "outputs": [],
   "source": [
    "import pandas as pd"
   ]
  },
  {
   "cell_type": "code",
   "execution_count": 11,
   "id": "76ccd29c-817f-4970-be2f-fe3f59f6a0df",
   "metadata": {},
   "outputs": [],
   "source": [
    "con = lite.connect(\"../MLD2025.db\")"
   ]
  },
  {
   "cell_type": "markdown",
   "id": "eb81e5c2-035f-41a3-abe0-3934787cec21",
   "metadata": {},
   "source": [
    "Let us now do a slightly varianty on the search for stars earlier - this time getting the Ra and Dec from the Stars table:"
   ]
  },
  {
   "cell_type": "code",
   "execution_count": 12,
   "id": "e39b0d55-c121-4dfe-85d9-470a621bd6b9",
   "metadata": {},
   "outputs": [],
   "source": [
    "t = pd.read_sql_query('Select ra, decl from Stars', con) "
   ]
  },
  {
   "cell_type": "code",
   "execution_count": 13,
   "id": "c08f0c06-6016-4637-9b45-4bcbf90a52a8",
   "metadata": {},
   "outputs": [
    {
     "data": {
      "text/html": [
       "<div>\n",
       "<style scoped>\n",
       "    .dataframe tbody tr th:only-of-type {\n",
       "        vertical-align: middle;\n",
       "    }\n",
       "\n",
       "    .dataframe tbody tr th {\n",
       "        vertical-align: top;\n",
       "    }\n",
       "\n",
       "    .dataframe thead th {\n",
       "        text-align: right;\n",
       "    }\n",
       "</style>\n",
       "<table border=\"1\" class=\"dataframe\">\n",
       "  <thead>\n",
       "    <tr style=\"text-align: right;\">\n",
       "      <th></th>\n",
       "      <th>ra</th>\n",
       "      <th>decl</th>\n",
       "    </tr>\n",
       "  </thead>\n",
       "  <tbody>\n",
       "    <tr>\n",
       "      <th>0</th>\n",
       "      <td>198.847500</td>\n",
       "      <td>10.503472</td>\n",
       "    </tr>\n",
       "    <tr>\n",
       "      <th>1</th>\n",
       "      <td>198.565417</td>\n",
       "      <td>11.023194</td>\n",
       "    </tr>\n",
       "    <tr>\n",
       "      <th>2</th>\n",
       "      <td>198.937083</td>\n",
       "      <td>9.916889</td>\n",
       "    </tr>\n",
       "    <tr>\n",
       "      <th>3</th>\n",
       "      <td>199.251667</td>\n",
       "      <td>10.348694</td>\n",
       "    </tr>\n",
       "  </tbody>\n",
       "</table>\n",
       "</div>"
      ],
      "text/plain": [
       "           ra       decl\n",
       "0  198.847500  10.503472\n",
       "1  198.565417  11.023194\n",
       "2  198.937083   9.916889\n",
       "3  199.251667  10.348694"
      ]
     },
     "execution_count": 13,
     "metadata": {},
     "output_type": "execute_result"
    }
   ],
   "source": [
    "t"
   ]
  },
  {
   "cell_type": "markdown",
   "id": "fb676998-9834-4ceb-a95c-05c37bb28bc8",
   "metadata": {},
   "source": [
    "That is simpler of course. It boils down to writing the same SQL code that you executed above and then read the results with the `read_sql_query` function and you get the results nicely in a pandas dataframe which prints nicely and which is easy to then use for processing."
   ]
  },
  {
   "cell_type": "markdown",
   "id": "c0f7f0e3-d217-40c6-9323-11e51774dfa0",
   "metadata": {},
   "source": [
    "### Task: \n",
    "\n",
    "Now use the pandas approach to answer this question:\n",
    "\n",
    "- Give me a list of all stars observed with the same FieldID"
   ]
  },
  {
   "cell_type": "code",
   "execution_count": 14,
   "id": "662cd152-1a6c-486d-acee-c3b3975408a8",
   "metadata": {},
   "outputs": [
    {
     "name": "stdout",
     "output_type": "stream",
     "text": [
      "\n",
      "For Field ID = 1 we have the following stars: \n",
      "   StarID  FieldID Star          ra       decl     g     r\n",
      "0       1        1   S1  198.847500  10.503472  14.5  15.2\n",
      "1       2        1   S2  198.565417  11.023194  15.3  15.4\n",
      "\n",
      "For Field ID = 2 we have the following stars: \n",
      "   StarID  FieldID Star          ra       decl     g     r\n",
      "0       4        2   S7  199.251667  10.348694  14.6  14.1\n",
      "\n",
      "For Field ID = 3 we have the following stars: \n",
      "   StarID  FieldID Star          ra      decl     g     r\n",
      "0       3        3   S5  198.937083  9.916889  16.4  15.8\n"
     ]
    }
   ],
   "source": [
    "for fieldID in (1, 2, 3):\n",
    "    query = 'Select * from Stars where FieldID={0}'.format(fieldID)\n",
    "    t = pd.read_sql_query(query, con)\n",
    "    print(\"\\nFor Field ID = {0} we have the following stars: \".format(fieldID))\n",
    "    print(t)"
   ]
  },
  {
   "cell_type": "code",
   "execution_count": 16,
   "id": "418a3ef5-7719-4c49-b9a1-88b40aea65df",
   "metadata": {},
   "outputs": [],
   "source": [
    "query = \"SELECT DISTINCT(FieldID) from Stars\"\n",
    "t = pd.read_sql_query(query, con)"
   ]
  },
  {
   "cell_type": "code",
   "execution_count": 17,
   "id": "5e8ff882-3507-4051-bfd8-51d4df9ba0b3",
   "metadata": {},
   "outputs": [
    {
     "data": {
      "text/html": [
       "<div>\n",
       "<style scoped>\n",
       "    .dataframe tbody tr th:only-of-type {\n",
       "        vertical-align: middle;\n",
       "    }\n",
       "\n",
       "    .dataframe tbody tr th {\n",
       "        vertical-align: top;\n",
       "    }\n",
       "\n",
       "    .dataframe thead th {\n",
       "        text-align: right;\n",
       "    }\n",
       "</style>\n",
       "<table border=\"1\" class=\"dataframe\">\n",
       "  <thead>\n",
       "    <tr style=\"text-align: right;\">\n",
       "      <th></th>\n",
       "      <th>FieldID</th>\n",
       "    </tr>\n",
       "  </thead>\n",
       "  <tbody>\n",
       "    <tr>\n",
       "      <th>0</th>\n",
       "      <td>1</td>\n",
       "    </tr>\n",
       "    <tr>\n",
       "      <th>1</th>\n",
       "      <td>3</td>\n",
       "    </tr>\n",
       "    <tr>\n",
       "      <th>2</th>\n",
       "      <td>2</td>\n",
       "    </tr>\n",
       "  </tbody>\n",
       "</table>\n",
       "</div>"
      ],
      "text/plain": [
       "   FieldID\n",
       "0        1\n",
       "1        3\n",
       "2        2"
      ]
     },
     "execution_count": 17,
     "metadata": {},
     "output_type": "execute_result"
    }
   ],
   "source": [
    "t"
   ]
  },
  {
   "cell_type": "code",
   "execution_count": null,
   "id": "c71494c8-8fe2-46dd-8895-f03d1bc3e515",
   "metadata": {},
   "outputs": [],
   "source": []
  }
 ],
 "metadata": {
  "kernelspec": {
   "display_name": "Python 3 (ipykernel)",
   "language": "python",
   "name": "python3"
  },
  "language_info": {
   "codemirror_mode": {
    "name": "ipython",
    "version": 3
   },
   "file_extension": ".py",
   "mimetype": "text/x-python",
   "name": "python",
   "nbconvert_exporter": "python",
   "pygments_lexer": "ipython3",
   "version": "3.12.2"
  }
 },
 "nbformat": 4,
 "nbformat_minor": 5
}
