{
 "cells": [
  {
   "cell_type": "markdown",
   "id": "fe32a211-d161-43da-9a3f-01b69d2375ee",
   "metadata": {},
   "source": [
    "# Searching data bases\n",
    "\n",
    "This notebook shows a few examples of how to search astronomical databases programatically."
   ]
  },
  {
   "cell_type": "code",
   "execution_count": 41,
   "id": "50672a22-4cf7-4175-85ab-2b786c18aa05",
   "metadata": {},
   "outputs": [],
   "source": [
    "import numpy as np\n",
    "from matplotlib import pyplot as plt\n",
    "# import ipywidgets as widgets"
   ]
  },
  {
   "cell_type": "code",
   "execution_count": 42,
   "id": "c27f8382-bef7-4056-9afe-b0e595ae44d4",
   "metadata": {},
   "outputs": [],
   "source": [
    "import astropy.units as u\n",
    "from astropy.coordinates.sky_coordinate import SkyCoord\n",
    "from astropy.units import Quantity\n",
    "from astroquery.gaia import Gaia  \n",
    "from astroquery.simbad import Simbad\n",
    "from astropy.table import Table"
   ]
  },
  {
   "cell_type": "markdown",
   "id": "688e79d9-5388-48d0-81c1-b73340912851",
   "metadata": {},
   "source": [
    "# Simbad\n",
    "\n",
    "Using Simbad or one of its sub-services such as Vizier is pretty much unavoidable for an astronomer. Astroquery can help you with that (although if you are looking for one object I would go to the web page!):"
   ]
  },
  {
   "cell_type": "code",
   "execution_count": 43,
   "id": "d73e5b4a-cdee-453a-b068-a35e4115574a",
   "metadata": {},
   "outputs": [
    {
     "name": "stdout",
     "output_type": "stream",
     "text": [
      "           MAIN_ID                   RA           DEC      RA_PREC ... COO_QUAL COO_WAVELENGTH     COO_BIBCODE     SCRIPT_NUMBER_ID\n",
      "                                  \"h:m:s\"       \"d:m:s\"            ...                                                             \n",
      "------------------------------ ------------- ------------- ------- ... -------- -------------- ------------------- ----------------\n",
      "               NAME Ori Region   05 35 17.30   -05 23 28.0       6 ...        D              O                                    1\n",
      "                 [FRM2016] 344 05 35 17.2210 -05 23 26.542       9 ...        C              R 2016ApJ...822...93F                1\n",
      "                DOH  7 175-328    05 35 17.5     -05 23 28       5 ...        D                2004AJ....127.3456D                1\n",
      "                       MAX 126   05 35 17.11   -05 23 29.3       6 ...        D              I 2005AJ....129.1534R                1\n",
      "                DOH  7 171-327    05 35 17.1     -05 23 27       5 ...        D                2004AJ....127.3456D                1\n",
      "                       MAX 125   05 35 17.11   -05 23 26.6       6 ...        D              I 2005AJ....129.1534R                1\n",
      "                [OW94] 171-326    05 35 17.1     -05 23 26       5 ...        D                2004AJ....127.3456D                1\n",
      "                DOH  7 171-325    05 35 17.1     -05 23 25       5 ...        D                2004AJ....127.3456D                1\n",
      "                       HH 1143    05 35 17.5     -05 23 25       5 ...        E                2015AJ....150..108O                1\n",
      "                DOH  7 175-324    05 35 17.5     -05 23 24       5 ...        D                2004AJ....127.3456D                1\n",
      "                           ...           ...           ...     ... ...      ...            ...                 ...              ...\n",
      "                 [SEM2016] 103  05 35 10.510  -05 22 25.01       7 ...        C              R 2016ApJ...831..155S                1\n",
      "                    COUP   393 05 35 10.7100 -05 22 20.300       8 ...        C              m 2016ApJ...826...16E                1\n",
      "                       JW  766 05 35 25.0620 -05 22 58.555      14 ...        A              O 2020yCat.1350....0G                1\n",
      "[NW2007] OrionAN-0535181-52129    05 35 18.1     -05 21 29       5 ...        E              m 2007MNRAS.374.1413N                1\n",
      "                [OW94] 130-147    05 35 13.0     -05 21 47       5 ...        D                2002ApJ...566..910T                1\n",
      "                 [GSL2002]  19    05 35 20.3     -05 25 19       5 ...        D                2002ApJ...566..880G                1\n",
      "                  [H97b] 20190 05 35 09.8424 -05 24 12.372      14 ...        C              O 2020yCat.1350....0G                1\n",
      "                  [FRM2016] 23 05 35 09.8424 -05 24 12.372      14 ...        C              O 2020yCat.1350....0G                1\n",
      "                [OW94] 222-503    05 35 22.2     -05 25 03       5 ...        D                2002ApJ...566..910T                1\n",
      "                    MLLA  769B  05 35 21.670  -05 21 47.40       7 ...        C              R 2016ApJ...831..155S                1\n",
      "Length = 1888 rows\n"
     ]
    }
   ],
   "source": [
    "c = SkyCoord(\"05h35m17.3s -05d23m28s\", frame='icrs')\n",
    "r = 2*u.arcmin\n",
    "\n",
    "result = Simbad.query_region(c, radius=r)\n",
    "print(result)"
   ]
  },
  {
   "cell_type": "markdown",
   "id": "d0ce4b0d-cb6a-42d5-98e1-3b99af589b67",
   "metadata": {},
   "source": [
    "# JWST\n",
    "\n",
    "There are several ways to search for JWST data - you can use the MAST service both online and through astroquery, and search through the ESA JWST archive. Here we search for Trappist 1. "
   ]
  },
  {
   "cell_type": "code",
   "execution_count": 44,
   "id": "b52c72ab-7063-4d1c-895b-a14a172a7f12",
   "metadata": {},
   "outputs": [],
   "source": [
    "from astroquery.esa.jwst import Jwst\n",
    "Jwst.get_status_messages() # Recommended to do before sending a query"
   ]
  },
  {
   "cell_type": "code",
   "execution_count": 45,
   "id": "5b13a0fa-2840-4f92-9762-2b298381f689",
   "metadata": {},
   "outputs": [],
   "source": [
    "ra_trappist1 = \"23h06m29.368s\"\n",
    "dec_trappist1 = \"-05d02m29.04\"\n",
    "coord = SkyCoord(ra=ra_trappist1, dec=dec_trappist1, frame='icrs')"
   ]
  },
  {
   "cell_type": "code",
   "execution_count": 46,
   "id": "e265b2b9-4a5d-4881-8dae-bb224505d3c0",
   "metadata": {},
   "outputs": [
    {
     "name": "stdout",
     "output_type": "stream",
     "text": [
      "INFO: Query finished. [astroquery.utils.tap.core]\n"
     ]
    }
   ],
   "source": [
    "j = Jwst.cone_search(coordinate=coord, radius=0.5*u.arcmin, async_job=True)"
   ]
  },
  {
   "cell_type": "code",
   "execution_count": 47,
   "id": "46282958-7a7e-4552-96de-894160bdb202",
   "metadata": {},
   "outputs": [],
   "source": [
    "result = j.get_results()"
   ]
  },
  {
   "cell_type": "code",
   "execution_count": 48,
   "id": "995d3e55-2156-444c-a28c-60bbfd833823",
   "metadata": {},
   "outputs": [
    {
     "data": {
      "text/plain": [
       "546"
      ]
     },
     "execution_count": 48,
     "metadata": {},
     "output_type": "execute_result"
    }
   ],
   "source": [
    "len(result['instrument_name'])"
   ]
  },
  {
   "cell_type": "markdown",
   "id": "553c68e8-d4b3-4e41-b203-5dd893b4fdb1",
   "metadata": {},
   "source": [
    "### Task: \n",
    "If you have time, combine the two approaches to find how many observations have been made of the Red Rectangle planetary nebula with JWST."
   ]
  },
  {
   "cell_type": "code",
   "execution_count": 86,
   "id": "6ea5cb2e-da17-4890-8563-27b131978b37",
   "metadata": {},
   "outputs": [],
   "source": [
    "res = Simbad.query_object(\"Red Rectangle\")"
   ]
  },
  {
   "cell_type": "code",
   "execution_count": 50,
   "id": "4e8e493f-b1e5-40e5-9868-abd7f6036fb1",
   "metadata": {},
   "outputs": [],
   "source": [
    "ra_rr = res['RA'][0]\n",
    "dec_rr = res['DEC'][0]\n",
    "coord_rr = SkyCoord(ra=ra_rr, dec=dec_rr, unit=(u.hourangle, u.deg), frame='icrs')"
   ]
  },
  {
   "cell_type": "code",
   "execution_count": 51,
   "id": "a2cb88a0-1865-4ae1-b85e-5109df211cc1",
   "metadata": {},
   "outputs": [
    {
     "name": "stdout",
     "output_type": "stream",
     "text": [
      "INFO: Query finished. [astroquery.utils.tap.core]\n"
     ]
    }
   ],
   "source": [
    "j_rr = Jwst.cone_search(coordinate=coord_rr, radius=0.5*u.arcmin, async_job=True)\n"
   ]
  },
  {
   "cell_type": "code",
   "execution_count": 52,
   "id": "47e234b5-ac1e-419d-985e-b99373b9a40a",
   "metadata": {},
   "outputs": [
    {
     "name": "stdout",
     "output_type": "stream",
     "text": [
      "Number of observations = 102\n"
     ]
    }
   ],
   "source": [
    "result = j_rr.get_results()\n",
    "print(\"Number of observations = {0}\".format(len(result)))"
   ]
  },
  {
   "cell_type": "markdown",
   "id": "d2283326-cc12-4a73-9b35-4c3062db0f83",
   "metadata": {},
   "source": [
    "# Gaia\n",
    "\n",
    "## Getting an overview of tables\n",
    "\n",
    "It is imperative to get to know what tables are available in a database - without that it is impossible to create searches. We would normally read the documentation for the archive, but here is a way to print all tables."
   ]
  },
  {
   "cell_type": "code",
   "execution_count": 78,
   "id": "91f13ab6-baea-43cf-91ce-55fa0485526e",
   "metadata": {},
   "outputs": [
    {
     "name": "stdout",
     "output_type": "stream",
     "text": [
      "INFO: Retrieving tables... [astroquery.utils.tap.core]\n",
      "INFO: Parsing tables... [astroquery.utils.tap.core]\n",
      "INFO: Done. [astroquery.utils.tap.core]\n",
      "external.external.apassdr9\n",
      "external.external.catwise2020\n",
      "external.external.gaiadr2_astrophysical_parameters\n",
      "external.external.gaiadr2_geometric_distance\n",
      "external.external.gaiaedr3_distance\n",
      "external.external.gaiaedr3_gcns_main_1\n",
      "external.external.gaiaedr3_gcns_rejected_1\n",
      "external.external.gaiaedr3_spurious\n",
      "external.external.gaia_eso_survey\n",
      "external.external.galex_ais\n",
      "external.external.lamost_dr9_lrs\n",
      "external.external.lamost_dr9_mrs\n",
      "external.external.ravedr5_com\n",
      "external.external.ravedr5_dr5\n",
      "external.external.ravedr5_gra\n",
      "external.external.ravedr5_on\n",
      "external.external.ravedr6\n",
      "external.external.sdssdr13_photoprimary\n",
      "external.external.skymapperdr1_master\n",
      "external.external.skymapperdr2_master\n",
      "external.external.tmass_xsc\n",
      "external.external.xgboost_table1\n",
      "external.external.xgboost_table2\n",
      "gaiadr1.gaiadr1.aux_qso_icrf2_match\n",
      "gaiadr1.gaiadr1.ext_phot_zero_point\n",
      "gaiadr1.gaiadr1.allwise_best_neighbour\n",
      "gaiadr1.gaiadr1.allwise_neighbourhood\n",
      "gaiadr1.gaiadr1.gsc23_best_neighbour\n",
      "gaiadr1.gaiadr1.gsc23_neighbourhood\n",
      "gaiadr1.gaiadr1.ppmxl_best_neighbour\n",
      "gaiadr1.gaiadr1.ppmxl_neighbourhood\n",
      "gaiadr1.gaiadr1.sdss_dr9_best_neighbour\n",
      "gaiadr1.gaiadr1.sdss_dr9_neighbourhood\n",
      "gaiadr1.gaiadr1.tmass_best_neighbour\n",
      "gaiadr1.gaiadr1.tmass_neighbourhood\n",
      "gaiadr1.gaiadr1.ucac4_best_neighbour\n",
      "gaiadr1.gaiadr1.ucac4_neighbourhood\n",
      "gaiadr1.gaiadr1.urat1_best_neighbour\n",
      "gaiadr1.gaiadr1.urat1_neighbourhood\n",
      "gaiadr1.gaiadr1.cepheid\n",
      "gaiadr1.gaiadr1.phot_variable_time_series_gfov\n",
      "gaiadr1.gaiadr1.phot_variable_time_series_gfov_statistical_parameters\n",
      "gaiadr1.gaiadr1.rrlyrae\n",
      "gaiadr1.gaiadr1.variable_summary\n",
      "gaiadr1.gaiadr1.allwise_original_valid\n",
      "gaiadr1.gaiadr1.gsc23_original_valid\n",
      "gaiadr1.gaiadr1.ppmxl_original_valid\n",
      "gaiadr1.gaiadr1.sdssdr9_original_valid\n",
      "gaiadr1.gaiadr1.tmass_original_valid\n",
      "gaiadr1.gaiadr1.ucac4_original_valid\n",
      "gaiadr1.gaiadr1.urat1_original_valid\n",
      "gaiadr1.gaiadr1.gaia_source\n",
      "gaiadr1.gaiadr1.tgas_source\n",
      "gaiadr2.gaiadr2.aux_allwise_agn_gdr2_cross_id\n",
      "gaiadr2.gaiadr2.aux_iers_gdr2_cross_id\n",
      "gaiadr2.gaiadr2.aux_sso_orbit_residuals\n",
      "gaiadr2.gaiadr2.aux_sso_orbits\n",
      "gaiadr2.gaiadr2.dr1_neighbourhood\n",
      "gaiadr2.gaiadr2.allwise_best_neighbour\n",
      "gaiadr2.gaiadr2.allwise_neighbourhood\n",
      "gaiadr2.gaiadr2.apassdr9_best_neighbour\n",
      "gaiadr2.gaiadr2.apassdr9_neighbourhood\n",
      "gaiadr2.gaiadr2.gsc23_best_neighbour\n",
      "gaiadr2.gaiadr2.gsc23_neighbourhood\n",
      "gaiadr2.gaiadr2.hipparcos2_best_neighbour\n",
      "gaiadr2.gaiadr2.hipparcos2_neighbourhood\n",
      "gaiadr2.gaiadr2.panstarrs1_best_neighbour\n",
      "gaiadr2.gaiadr2.panstarrs1_neighbourhood\n",
      "gaiadr2.gaiadr2.ppmxl_best_neighbour\n",
      "gaiadr2.gaiadr2.ppmxl_neighbourhood\n",
      "gaiadr2.gaiadr2.ravedr5_best_neighbour\n",
      "gaiadr2.gaiadr2.ravedr5_neighbourhood\n",
      "gaiadr2.gaiadr2.sdssdr9_best_neighbour\n",
      "gaiadr2.gaiadr2.sdssdr9_neighbourhood\n",
      "gaiadr2.gaiadr2.tmass_best_neighbour\n",
      "gaiadr2.gaiadr2.tmass_neighbourhood\n",
      "gaiadr2.gaiadr2.tycho2_best_neighbour\n",
      "gaiadr2.gaiadr2.tycho2_neighbourhood\n",
      "gaiadr2.gaiadr2.urat1_best_neighbour\n",
      "gaiadr2.gaiadr2.urat1_neighbourhood\n",
      "gaiadr2.gaiadr2.sso_observation\n",
      "gaiadr2.gaiadr2.sso_source\n",
      "gaiadr2.gaiadr2.vari_cepheid\n",
      "gaiadr2.gaiadr2.vari_classifier_class_definition\n",
      "gaiadr2.gaiadr2.vari_classifier_definition\n",
      "gaiadr2.gaiadr2.vari_classifier_result\n",
      "gaiadr2.gaiadr2.vari_long_period_variable\n",
      "gaiadr2.gaiadr2.vari_rotation_modulation\n",
      "gaiadr2.gaiadr2.vari_rrlyrae\n",
      "gaiadr2.gaiadr2.vari_short_timescale\n",
      "gaiadr2.gaiadr2.vari_time_series_statistics\n",
      "gaiadr2.gaiadr2.panstarrs1_original_valid\n",
      "gaiadr2.gaiadr2.gaia_source\n",
      "gaiadr2.gaiadr2.ruwe\n",
      "gaiadr3.gaiadr3.gaia_source\n",
      "gaiadr3.gaiadr3.gaia_source_lite\n",
      "gaiadr3.gaiadr3.astrophysical_parameters\n",
      "gaiadr3.gaiadr3.astrophysical_parameters_supp\n",
      "gaiadr3.gaiadr3.oa_neuron_information\n",
      "gaiadr3.gaiadr3.oa_neuron_xp_spectra\n",
      "gaiadr3.gaiadr3.total_galactic_extinction_map\n",
      "gaiadr3.gaiadr3.total_galactic_extinction_map_opt\n",
      "gaiadr3.gaiadr3.commanded_scan_law\n",
      "gaiadr3.gaiadr3.allwise_best_neighbour\n",
      "gaiadr3.gaiadr3.allwise_neighbourhood\n",
      "gaiadr3.gaiadr3.apassdr9_best_neighbour\n",
      "gaiadr3.gaiadr3.apassdr9_join\n",
      "gaiadr3.gaiadr3.apassdr9_neighbourhood\n",
      "gaiadr3.gaiadr3.dr2_neighbourhood\n",
      "gaiadr3.gaiadr3.gsc23_best_neighbour\n",
      "gaiadr3.gaiadr3.gsc23_join\n",
      "gaiadr3.gaiadr3.gsc23_neighbourhood\n",
      "gaiadr3.gaiadr3.hipparcos2_best_neighbour\n",
      "gaiadr3.gaiadr3.hipparcos2_neighbourhood\n",
      "gaiadr3.gaiadr3.panstarrs1_best_neighbour\n",
      "gaiadr3.gaiadr3.panstarrs1_join\n",
      "gaiadr3.gaiadr3.panstarrs1_neighbourhood\n",
      "gaiadr3.gaiadr3.ravedr5_best_neighbour\n",
      "gaiadr3.gaiadr3.ravedr5_join\n",
      "gaiadr3.gaiadr3.ravedr5_neighbourhood\n",
      "gaiadr3.gaiadr3.ravedr6_best_neighbour\n",
      "gaiadr3.gaiadr3.ravedr6_join\n",
      "gaiadr3.gaiadr3.ravedr6_neighbourhood\n",
      "gaiadr3.gaiadr3.sdssdr13_best_neighbour\n",
      "gaiadr3.gaiadr3.sdssdr13_join\n",
      "gaiadr3.gaiadr3.sdssdr13_neighbourhood\n",
      "gaiadr3.gaiadr3.skymapperdr2_best_neighbour\n",
      "gaiadr3.gaiadr3.skymapperdr2_join\n",
      "gaiadr3.gaiadr3.skymapperdr2_neighbourhood\n",
      "gaiadr3.gaiadr3.tmass_psc_xsc_best_neighbour\n",
      "gaiadr3.gaiadr3.tmass_psc_xsc_join\n",
      "gaiadr3.gaiadr3.tmass_psc_xsc_neighbourhood\n",
      "gaiadr3.gaiadr3.tycho2tdsc_merge_best_neighbour\n",
      "gaiadr3.gaiadr3.tycho2tdsc_merge_neighbourhood\n",
      "gaiadr3.gaiadr3.urat1_best_neighbour\n",
      "gaiadr3.gaiadr3.urat1_neighbourhood\n",
      "gaiadr3.gaiadr3.galaxy_candidates\n",
      "gaiadr3.gaiadr3.galaxy_catalogue_name\n",
      "gaiadr3.gaiadr3.qso_candidates\n",
      "gaiadr3.gaiadr3.qso_catalogue_name\n",
      "gaiadr3.gaiadr3.nss_acceleration_astro\n",
      "gaiadr3.gaiadr3.nss_non_linear_spectro\n",
      "gaiadr3.gaiadr3.nss_two_body_orbit\n",
      "gaiadr3.gaiadr3.nss_vim_fl\n",
      "gaiadr3.gaiadr3.binary_masses\n",
      "gaiadr3.gaiadr3.chemical_cartography\n",
      "gaiadr3.gaiadr3.gold_sample_carbon_stars\n",
      "gaiadr3.gaiadr3.gold_sample_fgkm_stars\n",
      "gaiadr3.gaiadr3.gold_sample_oba_stars\n",
      "gaiadr3.gaiadr3.gold_sample_solar_analogues\n",
      "gaiadr3.gaiadr3.gold_sample_spss\n",
      "gaiadr3.gaiadr3.gold_sample_ucd\n",
      "gaiadr3.gaiadr3.sso_orbits\n",
      "gaiadr3.gaiadr3.synthetic_photometry_gspc\n",
      "gaiadr3.gaiadr3.vari_spurious_signals\n",
      "gaiadr3.gaiadr3.agn_cross_id\n",
      "gaiadr3.gaiadr3.frame_rotator_source\n",
      "gaiadr3.gaiadr3.gaia_crf3_xm\n",
      "gaiadr3.gaiadr3.alerts_mixedin_sourceids\n",
      "gaiadr3.gaiadr3.science_alerts\n",
      "gaiadr3.gaiadr3.gaia_source_simulation\n",
      "gaiadr3.gaiadr3.gaia_universe_model\n",
      "gaiadr3.gaiadr3.sso_observation\n",
      "gaiadr3.gaiadr3.sso_reflectance_spectrum\n",
      "gaiadr3.gaiadr3.sso_source\n",
      "gaiadr3.gaiadr3.xp_summary\n",
      "gaiadr3.gaiadr3.vari_agn\n",
      "gaiadr3.gaiadr3.vari_cepheid\n",
      "gaiadr3.gaiadr3.vari_classifier_class_definition\n",
      "gaiadr3.gaiadr3.vari_classifier_definition\n",
      "gaiadr3.gaiadr3.vari_classifier_result\n",
      "gaiadr3.gaiadr3.vari_compact_companion\n",
      "gaiadr3.gaiadr3.vari_eclipsing_binary\n",
      "gaiadr3.gaiadr3.vari_epoch_radial_velocity\n",
      "gaiadr3.gaiadr3.vari_long_period_variable\n",
      "gaiadr3.gaiadr3.vari_microlensing\n",
      "gaiadr3.gaiadr3.vari_ms_oscillator\n",
      "gaiadr3.gaiadr3.vari_planetary_transit\n",
      "gaiadr3.gaiadr3.vari_planetary_transit_13june2022\n",
      "gaiadr3.gaiadr3.vari_rad_vel_statistics\n",
      "gaiadr3.gaiadr3.vari_rotation_modulation\n",
      "gaiadr3.gaiadr3.vari_rrlyrae\n",
      "gaiadr3.gaiadr3.vari_short_timescale\n",
      "gaiadr3.gaiadr3.vari_summary\n",
      "gaiadr3.gaiadr3.tycho2tdsc_merge\n",
      "gaiaedr3.gaiaedr3.gaia_source\n",
      "gaiaedr3.gaiaedr3.agn_cross_id\n",
      "gaiaedr3.gaiaedr3.commanded_scan_law\n",
      "gaiaedr3.gaiaedr3.dr2_neighbourhood\n",
      "gaiaedr3.gaiaedr3.frame_rotator_source\n",
      "gaiaedr3.gaiaedr3.allwise_best_neighbour\n",
      "gaiaedr3.gaiaedr3.allwise_neighbourhood\n",
      "gaiaedr3.gaiaedr3.apassdr9_best_neighbour\n",
      "gaiaedr3.gaiaedr3.apassdr9_join\n",
      "gaiaedr3.gaiaedr3.apassdr9_neighbourhood\n",
      "gaiaedr3.gaiaedr3.gsc23_best_neighbour\n",
      "gaiaedr3.gaiaedr3.gsc23_join\n",
      "gaiaedr3.gaiaedr3.gsc23_neighbourhood\n",
      "gaiaedr3.gaiaedr3.hipparcos2_best_neighbour\n",
      "gaiaedr3.gaiaedr3.hipparcos2_neighbourhood\n",
      "gaiaedr3.gaiaedr3.panstarrs1_best_neighbour\n",
      "gaiaedr3.gaiaedr3.panstarrs1_join\n",
      "gaiaedr3.gaiaedr3.panstarrs1_neighbourhood\n",
      "gaiaedr3.gaiaedr3.ravedr5_best_neighbour\n",
      "gaiaedr3.gaiaedr3.ravedr5_join\n",
      "gaiaedr3.gaiaedr3.ravedr5_neighbourhood\n",
      "gaiaedr3.gaiaedr3.sdssdr13_best_neighbour\n",
      "gaiaedr3.gaiaedr3.sdssdr13_join\n",
      "gaiaedr3.gaiaedr3.sdssdr13_neighbourhood\n",
      "gaiaedr3.gaiaedr3.skymapperdr2_best_neighbour\n",
      "gaiaedr3.gaiaedr3.skymapperdr2_join\n",
      "gaiaedr3.gaiaedr3.skymapperdr2_neighbourhood\n",
      "gaiaedr3.gaiaedr3.tmass_psc_xsc_best_neighbour\n",
      "gaiaedr3.gaiaedr3.tmass_psc_xsc_join\n",
      "gaiaedr3.gaiaedr3.tmass_psc_xsc_neighbourhood\n",
      "gaiaedr3.gaiaedr3.tycho2tdsc_merge_best_neighbour\n",
      "gaiaedr3.gaiaedr3.tycho2tdsc_merge_neighbourhood\n",
      "gaiaedr3.gaiaedr3.urat1_best_neighbour\n",
      "gaiaedr3.gaiaedr3.urat1_neighbourhood\n",
      "gaiaedr3.gaiaedr3.gaia_source_simulation\n",
      "gaiaedr3.gaiaedr3.gaia_universe_model\n",
      "gaiaedr3.gaiaedr3.tycho2tdsc_merge\n",
      "gaiafpr.gaiafpr.crowded_field_source\n",
      "gaiafpr.gaiafpr.lens_candidates\n",
      "gaiafpr.gaiafpr.lens_catalogue_name\n",
      "gaiafpr.gaiafpr.lens_observation\n",
      "gaiafpr.gaiafpr.lens_outlier\n",
      "gaiafpr.gaiafpr.sso_observation\n",
      "gaiafpr.gaiafpr.sso_source\n",
      "gaiafpr.gaiafpr.interstellar_medium_params\n",
      "gaiafpr.gaiafpr.interstellar_medium_spectra\n",
      "gaiafpr.gaiafpr.vari_epoch_radial_velocity\n",
      "gaiafpr.gaiafpr.vari_long_period_variable\n",
      "gaiafpr.gaiafpr.vari_rad_vel_statistics\n",
      "public.public.hipparcos\n",
      "public.public.hipparcos_newreduction\n",
      "public.public.hubble_sc\n",
      "public.public.igsl_source\n",
      "public.public.igsl_source_catalog_ids\n",
      "public.public.tycho2\n",
      "public.public.dual\n",
      "tap_config.tap_config.coord_sys\n",
      "tap_config.tap_config.properties\n",
      "tap_schema.tap_schema.columns\n",
      "tap_schema.tap_schema.key_columns\n",
      "tap_schema.tap_schema.keys\n",
      "tap_schema.tap_schema.schemas\n",
      "tap_schema.tap_schema.tables\n"
     ]
    }
   ],
   "source": [
    "tables = Gaia.load_tables(only_names=True)\n",
    "for table in (tables):\n",
    "    print (table.get_qualified_name())    "
   ]
  },
  {
   "cell_type": "markdown",
   "id": "9d9529c8-f2cc-4365-85c9-2668fa8dd0e9",
   "metadata": {},
   "source": [
    "what you will see here is that there is a lot of repetition - we see both gaiadr2 and gaiadr3 etc. Clearly this is not all we want. So the best is to go to the [Gaia archive](https://www.cosmos.esa.int/web/gaia-users/archive#) - this link is to the documentation. The full structure is recorded in what is called the data model. \n",
    "\n",
    "In the end, however, what you need here is the `gaia_source` table and I will also get this for data release 3 (dr3, currently the latest release). To be concrete, let us search around te centre of the Hyades star cluster. The search will take a bit of time, so we launch it as an asynchronous search and ask for it to be dumped to disk"
   ]
  },
  {
   "cell_type": "code",
   "execution_count": 101,
   "id": "26f7e09f-7b25-404f-b3f2-59cb99701c10",
   "metadata": {},
   "outputs": [],
   "source": [
    "search_radius = 6.0/2.0 # In degrees\n",
    "# The position of the Hyades cluster\n",
    "res = Simbad.query_object(\"Hyades\")\n",
    "c = SkyCoord(ra=res['RA'][0], dec=res['DEC'][0], unit=(u.hourangle, u.deg))\n",
    "ra_pos = c.ra.deg\n",
    "dec_pos = c.dec.deg\n",
    "\n",
    "query = \"SELECT * FROM gaiadr3.gaia_source WHERE DISTANCE(ra,dec,{0:.5f},{1:.5f}) <{2:.1f}\".format(ra_pos, dec_pos, search_radius)\n",
    "job   = Gaia.launch_job_async(query, dump_to_file=True)\n",
    "print (job)\n",
    "\n"
   ]
  },
  {
   "cell_type": "code",
   "execution_count": 102,
   "id": "3ac990e3-a9a3-4b3c-b864-f05d278753c1",
   "metadata": {},
   "outputs": [
    {
     "name": "stderr",
     "output_type": "stream",
     "text": [
      "WARNING: UnitsWarning: ''electron'.s**-1' did not parse as fits unit: At col 0, Unit ''electron'' not supported by the FITS standard.  If this is meant to be a custom unit, define it with 'u.def_unit'. To have it recognized inside a file reader or other code, enable it with 'u.add_enabled_units'. For details, see https://docs.astropy.org/en/latest/units/combining_and_defining.html [astropy.units.core]\n",
      "WARNING: UnitsWarning: 'log(cm.s**-2)' did not parse as fits unit: 'log' is not a recognized function If this is meant to be a custom unit, define it with 'u.def_unit'. To have it recognized inside a file reader or other code, enable it with 'u.add_enabled_units'. For details, see https://docs.astropy.org/en/latest/units/combining_and_defining.html [astropy.units.core]\n",
      "WARNING: UnitsWarning: ''dex'' did not parse as fits unit: At col 0, Unit ''dex'' not supported by the FITS standard.  If this is meant to be a custom unit, define it with 'u.def_unit'. To have it recognized inside a file reader or other code, enable it with 'u.add_enabled_units'. For details, see https://docs.astropy.org/en/latest/units/combining_and_defining.html [astropy.units.core]\n"
     ]
    }
   ],
   "source": [
    "# The tables are stored on disk as VOT tables with peculiar naming. It is a good idea to rename these\n",
    "# to something a bit more useful - although if you are doing something more complex and important you \n",
    "# should store a record of what you did. I have renamed my result to Hyades-Gaia-search.vot.gz  - \n",
    "# If you are in Google Colab this is not helpful because the file would be delete each time you restart \n",
    "# the Colab but for now it is fine. I also converted it to FITS for speeding up.\n",
    "t = Table().read('Hyades-Gaia-search.fits')"
   ]
  },
  {
   "cell_type": "code",
   "execution_count": 103,
   "id": "2387102b-3ada-495e-8804-fbe282f85a0e",
   "metadata": {},
   "outputs": [
    {
     "data": {
      "text/plain": [
       "261377"
      ]
     },
     "execution_count": 103,
     "metadata": {},
     "output_type": "execute_result"
    }
   ],
   "source": [
    "len(t)"
   ]
  },
  {
   "cell_type": "code",
   "execution_count": 104,
   "id": "be8a2f8d-63c2-4531-9bcd-d3089daf429e",
   "metadata": {},
   "outputs": [
    {
     "data": {
      "text/plain": [
       "<matplotlib.collections.PathCollection at 0x158fa7c20>"
      ]
     },
     "execution_count": 104,
     "metadata": {},
     "output_type": "execute_result"
    },
    {
     "data": {
      "image/png": "[encoded data removed]",
      "text/plain": [
       "<Figure size 640x480 with 1 Axes>"
      ]
     },
     "metadata": {},
     "output_type": "display_data"
    }
   ],
   "source": [
    "plt.scatter(t['ra'], t['dec'], marker='.', alpha=0.1)"
   ]
  },
  {
   "cell_type": "markdown",
   "id": "d0479a27-6f54-44ea-ba88-a680ec4c1f2a",
   "metadata": {},
   "source": [
    "The Hyades is pretty close at a distance of 47 pc, so let us select stars at that distance"
   ]
  },
  {
   "cell_type": "code",
   "execution_count": 105,
   "id": "2c96a637-73c2-466e-bb0b-2b763c746560",
   "metadata": {},
   "outputs": [],
   "source": [
    "is_hyades, = np.where(np.abs(t['distance_gspphot']-47) < 10)"
   ]
  },
  {
   "cell_type": "code",
   "execution_count": 106,
   "id": "97554d4d-040b-44a1-84a4-f479c88adb90",
   "metadata": {},
   "outputs": [
    {
     "data": {
      "text/plain": [
       "<matplotlib.collections.PathCollection at 0x15ce95520>"
      ]
     },
     "execution_count": 106,
     "metadata": {},
     "output_type": "execute_result"
    },
    {
     "data": {
      "image/png": "[encoded data removed]",
      "text/plain": [
       "<Figure size 640x480 with 1 Axes>"
      ]
     },
     "metadata": {},
     "output_type": "display_data"
    }
   ],
   "source": [
    "plt.scatter(t['ra'][is_hyades], t['dec'][is_hyades])"
   ]
  },
  {
   "cell_type": "code",
   "execution_count": 120,
   "id": "d28fd69a-a90f-4edb-b253-e25143d38d01",
   "metadata": {},
   "outputs": [],
   "source": [
    "ii, = np.where( (t['parallax']/1e3 > 1.0/(47.0+10.0)) & (t['parallax']/1e3 < 1.0/(47.0-10.0)) & (t['parallax']/t['parallax_error'] > 3))"
   ]
  },
  {
   "cell_type": "code",
   "execution_count": 121,
   "id": "9e9fd4dd-3fec-4696-9b49-a1c5bedf6559",
   "metadata": {},
   "outputs": [
    {
     "data": {
      "text/plain": [
       "188"
      ]
     },
     "execution_count": 121,
     "metadata": {},
     "output_type": "execute_result"
    }
   ],
   "source": [
    "len(ii)"
   ]
  },
  {
   "cell_type": "code",
   "execution_count": 123,
   "id": "c2ea596d-e6d5-43c5-8150-d4308505fd15",
   "metadata": {},
   "outputs": [
    {
     "data": {
      "text/plain": [
       "<matplotlib.collections.PathCollection at 0x15d061160>"
      ]
     },
     "execution_count": 123,
     "metadata": {},
     "output_type": "execute_result"
    },
    {
     "data": {
      "image/png": "[encoded data removed]",
      "text/plain": [
       "<Figure size 640x480 with 1 Axes>"
      ]
     },
     "metadata": {},
     "output_type": "display_data"
    }
   ],
   "source": [
    "plt.scatter(t['ra'][ii], t['dec'][ii], marker='.', alpha=0.5)"
   ]
  },
  {
   "cell_type": "code",
   "execution_count": null,
   "id": "268d2701-1b76-4336-a199-bfbfcfd8f2c9",
   "metadata": {},
   "outputs": [],
   "source": []
  }
 ],
 "metadata": {
  "kernelspec": {
   "display_name": "Python 3 (ipykernel)",
   "language": "python",
   "name": "python3"
  },
  "language_info": {
   "codemirror_mode": {
    "name": "ipython",
    "version": 3
   },
   "file_extension": ".py",
   "mimetype": "text/x-python",
   "name": "python",
   "nbconvert_exporter": "python",
   "pygments_lexer": "ipython3",
   "version": "3.12.2"
  }
 },
 "nbformat": 4,
 "nbformat_minor": 5
}
