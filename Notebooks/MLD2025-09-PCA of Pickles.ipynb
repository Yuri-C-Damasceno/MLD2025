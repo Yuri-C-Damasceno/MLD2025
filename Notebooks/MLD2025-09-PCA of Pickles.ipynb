{
 "cells": [
  {
   "cell_type": "markdown",
   "metadata": {},
   "source": [
    "<table width=\"100%\">\n",
    "    <td align=\"left\">\n",
    "        <a target=\"_blank\", href=\"https://www.up.pt/fcup/en/\">\n",
    "            <img src=\"https://divulgacao.iastro.pt/wp-content/uploads/2023/03/FCUP_logo-print_blcktransp_600ppi.png\" width=\"90px\" height=\"90px\" style=\"padding-bottom:5px;\"/>\n",
    "        </a>\n",
    "    </td>\n",
    "    <td>\n",
    "        <a target=\"_blank\", href=\"https://www.iastro.pt/\">\n",
    "            <img src=\"https://divulgacao.iastro.pt/wp-content/uploads/2018/03/IA_logo_bitmap-rgbblack-1200px-388x259.png\" width=\"90px\" height=\"90px\" style=\"padding-bottom:5px;\"/>\n",
    "        </a>\n",
    "    </td>\n",
    "    <td align=\"center\">\n",
    "        <a target=\"_blank\" href=\"https://colab.research.google.com/github/jbrinchmann/MLD2025/blob/main/Notebooks/MLD2025-09-PCA%20of%20Pickles.ipynb\">\n",
    "           <img src=\"https://tinyurl.com/3mm2cyk6\"  width=\"90px\" height=\"90px\" style=\"padding-bottom:5px;\"/>Run in Google Colab\n",
    "        </a>\n",
    "    </td>\n",
    "<td align=\"center\"><a target=\"_blank\" href=\"https://github.com/jbrinchmann/MLD2025/blob/main/Notebooks/MLD2025-09-PCA%20of%20Pickles.ipynb\">\n",
    "<img src=\"https://tinyurl.com/25h5fw53\"  width=\"90px\" height=\"60px\" style=\"padding-bottom:0px;\"  />View Source on GitHub</a></td>\n",
    "</table>"
   ]
  },
  {
   "cell_type": "markdown",
   "metadata": {},
   "source": [
    "# Do a PCA decomposition of the Pickles library\n",
    "\n",
    "This notebook shows how to PCA decomposition of a set of spectra and how to reconstruct spectra from a smaller set of PCA components.\n",
    "\n",
    "This can be done in a variety of ways - depending on what data we focus on."
   ]
  },
  {
   "cell_type": "code",
   "execution_count": null,
   "metadata": {
    "ExecuteTime": {
     "end_time": "2019-03-24T18:07:32.495445Z",
     "start_time": "2019-03-24T18:07:31.402391Z"
    }
   },
   "outputs": [],
   "source": [
    "import numpy as np\n",
    "import matplotlib.pyplot as plt\n",
    "from astropy.io import fits\n",
    "from astropy.table import Table\n",
    "import pandas as pd\n",
    "import seaborn as sns\n",
    "\n",
    "%matplotlib inline"
   ]
  },
  {
   "cell_type": "code",
   "execution_count": null,
   "metadata": {},
   "outputs": [],
   "source": []
  },
  {
   "cell_type": "markdown",
   "metadata": {},
   "source": [
    "## Loading of the library of spectra\n",
    "\n",
    "The spectra are stored in a FITS file in the Pickles subdirectory called `pickles-spectra.fits`. This contains the wavelength axis in the first HDU, the flux in the next and the flux uncertainty in the last. But we also need to get the overview table which has the classification of the spectra."
   ]
  },
  {
   "cell_type": "code",
   "execution_count": null,
   "metadata": {},
   "outputs": [],
   "source": [
    "# For Colab:\n",
    "#!wget --quiet -O pickles-spectra.fits https://github.com/jbrinchmann/MLD2025/raw/refs/heads/main/Datafiles/pickles-spectra.fits\n",
    "#!wget --quiet -O overview-of-spectra.vot https://github.com/jbrinchmann/MLD2025/raw/refs/heads/main/Datafiles/overview-of-spectra.vot\n"
   ]
  },
  {
   "cell_type": "code",
   "execution_count": null,
   "metadata": {
    "ExecuteTime": {
     "end_time": "2019-03-24T18:07:32.501480Z",
     "start_time": "2019-03-24T18:07:32.497400Z"
    }
   },
   "outputs": [],
   "source": [
    "def load_pickles_library():\n",
    "    hdul = fits.open('pickles-spectra.fits')\n",
    "    wave = hdul[0].data\n",
    "    flux = hdul[1].data\n",
    "    dflux = hdul[2].data\n",
    "    \n",
    "    return wave, flux, dflux\n",
    "\n",
    "def load_overview_table():\n",
    "    return Table().read('overview-of-spectra.vot')"
   ]
  },
  {
   "cell_type": "code",
   "execution_count": null,
   "metadata": {
    "ExecuteTime": {
     "end_time": "2019-03-24T18:07:32.531101Z",
     "start_time": "2019-03-24T18:07:32.504519Z"
    }
   },
   "outputs": [],
   "source": [
    "wave, flux, dflux = load_pickles_library()\n",
    "t_overview = load_overview_table()"
   ]
  },
  {
   "cell_type": "code",
   "execution_count": null,
   "metadata": {},
   "outputs": [],
   "source": [
    "flux.shape"
   ]
  },
  {
   "cell_type": "markdown",
   "metadata": {},
   "source": [
    "## Examining a few spectra\n",
    "\n",
    "Let us here plot the first spectrum in each class."
   ]
  },
  {
   "cell_type": "code",
   "execution_count": null,
   "metadata": {
    "ExecuteTime": {
     "end_time": "2019-03-24T18:07:32.827905Z",
     "start_time": "2019-03-24T18:07:32.533678Z"
    }
   },
   "outputs": [],
   "source": [
    "fig, ax = plt.subplots(ncols=1, nrows=1, figsize=(12,7))\n",
    "\n",
    "MKclasses = ['o', 'b', 'a', 'f', 'g', 'k', 'm']\n",
    "for MK in MKclasses:\n",
    "    ii, = np.where(t_overview['SPType'] == MK)\n",
    "    \n",
    "    ax.plot(np.log10(wave), flux[:, ii[0]], label='Class={0} [{1} spectra]'.format(MK, len(ii)))\n",
    "    \n",
    "ax.set_xlabel('Log wavelength')\n",
    "ax.set_ylabel('Flux')\n",
    "ax.legend()"
   ]
  },
  {
   "cell_type": "markdown",
   "metadata": {},
   "source": [
    "But of course that is not a very nice illustration. \n",
    "\n",
    "## Task: do a better plot for the optical region\n",
    "\n",
    "Create a nice illustration focusing on the 3000Å to 10000Å region - the code below creates some subset of the data which will be useful further on."
   ]
  },
  {
   "cell_type": "code",
   "execution_count": null,
   "metadata": {
    "ExecuteTime": {
     "end_time": "2019-03-24T18:07:32.835387Z",
     "start_time": "2019-03-24T18:07:32.829747Z"
    }
   },
   "outputs": [],
   "source": [
    "i_optical, = np.where((wave > 3000) & (wave < 10000))\n",
    "flux_opt = flux[i_optical, :]\n",
    "dflux_opt = dflux[i_optical, :]\n",
    "wave_opt = wave[i_optical]"
   ]
  },
  {
   "cell_type": "markdown",
   "metadata": {},
   "source": [
    "## Setting up for PCA\n",
    "\n",
    "We now need to import the appropriate libraries for PCA."
   ]
  },
  {
   "cell_type": "code",
   "execution_count": null,
   "metadata": {
    "ExecuteTime": {
     "end_time": "2019-03-24T18:07:33.435903Z",
     "start_time": "2019-03-24T18:07:33.093101Z"
    }
   },
   "outputs": [],
   "source": [
    "from sklearn.decomposition import NMF\n",
    "from sklearn.decomposition import PCA"
   ]
  },
  {
   "cell_type": "markdown",
   "metadata": {},
   "source": [
    "## Task: carry out a PCA analysis of these spectra\n",
    "\n",
    "What you should do is:\n",
    "\n",
    "- Setup the PCA model\n",
    "- Subtract off the mean spectrum\n",
    "- How many significant PCA components do you find? Can you come up with some physical argument for this number?\n",
    "- Compare the PCA components to the MK class (`t_overview['numtype']`)\n",
    "- If you feel adventurous try to reconstruct the spectrum using a few PC components.\n",
    "\n",
    "The solution shows a bit more so is worth consulting.\n"
   ]
  },
  {
   "cell_type": "code",
   "execution_count": null,
   "metadata": {
    "ExecuteTime": {
     "end_time": "2019-03-24T18:07:33.440644Z",
     "start_time": "2019-03-24T18:07:33.437679Z"
    }
   },
   "outputs": [],
   "source": [
    "# This does automatic whitening\n",
    "pca = PCA(n_components=10, whiten=False)"
   ]
  },
  {
   "cell_type": "code",
   "execution_count": null,
   "metadata": {
    "ExecuteTime": {
     "end_time": "2019-03-24T18:07:33.448124Z",
     "start_time": "2019-03-24T18:07:33.442393Z"
    }
   },
   "outputs": [],
   "source": [
    "# This is the design matrix (note the transpose to adhere to the sklearn convention)\n",
    "X = flux_opt.T.copy()"
   ]
  }
 ],
 "metadata": {
  "kernelspec": {
   "display_name": "Python 3 (ipykernel)",
   "language": "python",
   "name": "python3"
  },
  "language_info": {
   "codemirror_mode": {
    "name": "ipython",
    "version": 3
   },
   "file_extension": ".py",
   "mimetype": "text/x-python",
   "name": "python",
   "nbconvert_exporter": "python",
   "pygments_lexer": "ipython3",
   "version": "3.12.2"
  },
  "varInspector": {
   "cols": {
    "lenName": 16,
    "lenType": 16,
    "lenVar": 40
   },
   "kernels_config": {
    "python": {
     "delete_cmd_postfix": "",
     "delete_cmd_prefix": "del ",
     "library": "var_list.py",
     "varRefreshCmd": "print(var_dic_list())"
    },
    "r": {
     "delete_cmd_postfix": ") ",
     "delete_cmd_prefix": "rm(",
     "library": "var_list.r",
     "varRefreshCmd": "cat(var_dic_list()) "
    }
   },
   "types_to_exclude": [
    "module",
    "function",
    "builtin_function_or_method",
    "instance",
    "_Feature"
   ],
   "window_display": false
  }
 },
 "nbformat": 4,
 "nbformat_minor": 4
}
