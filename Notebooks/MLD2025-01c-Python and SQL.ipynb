{
 "cells": [
  {
   "cell_type": "markdown",
   "id": "59c449ef-60fe-4eef-ab74-5938c5487ce5",
   "metadata": {},
   "source": [
    "# Python and SQL\n",
    "\n",
    "Here we will try a couple of ways to query a database with Python.  We will start with the built-in option in python - `sqlite3`. You should always have this available and it is lightweight."
   ]
  },
  {
   "cell_type": "code",
   "execution_count": 1,
   "id": "27eb1bc4-67f9-4946-8c89-33a183110fe2",
   "metadata": {},
   "outputs": [],
   "source": [
    "import sqlite3 as lite"
   ]
  },
  {
   "cell_type": "code",
   "execution_count": 2,
   "id": "07ec9596-f32c-4c9e-b82c-9d13e56896ab",
   "metadata": {},
   "outputs": [],
   "source": [
    "con = lite.connect('MLD2025.db')"
   ]
  },
  {
   "cell_type": "markdown",
   "id": "049d49c7-d78d-4e83-847b-61ae51c6bdff",
   "metadata": {},
   "source": [
    "We now have a connection to the database. We can launch queries through this to search the database. Here is an example:"
   ]
  },
  {
   "cell_type": "code",
   "execution_count": 9,
   "id": "17cbb9d8-127d-4068-98d7-a77b626daab0",
   "metadata": {},
   "outputs": [],
   "source": [
    "with con:\n",
    "    # Get a cursor.\n",
    "    cur = con.cursor()\n",
    "\n",
    "    query = \"select s.star, o.Date from stars as s JOIN observations as o ON s.fieldID=o.ID\" \n",
    "    # Execute commands\n",
    "    rows = cur.execute(query)"
   ]
  },
  {
   "cell_type": "markdown",
   "id": "72a208f1-fb92-4861-8de9-4f9b2f06ae30",
   "metadata": {},
   "source": [
    "The `rows` variable now contains a cursor object which points to the results table. To get values out from it we need to loop over it."
   ]
  },
  {
   "cell_type": "code",
   "execution_count": 10,
   "id": "1a233d34-b319-4bb6-a0da-dc27dd7d65dd",
   "metadata": {},
   "outputs": [
    {
     "name": "stdout",
     "output_type": "stream",
     "text": [
      "Star = S1 was observed  at 92.9885764\n",
      "Star = S2 was observed  at 92.9885764\n",
      "Star = S5 was observed  at 93.5532134\n",
      "Star = S7 was observed  at 97.3323764\n"
     ]
    }
   ],
   "source": [
    "for row in rows:\n",
    "    this_star, this_date = row\n",
    "    print(\"Star = {0} was observed  at {1}\".format(this_star, this_date))"
   ]
  },
  {
   "cell_type": "markdown",
   "id": "8f4c1ed0-4515-4d44-9580-736e23caee75",
   "metadata": {},
   "source": [
    "**Try:** run the cell above again. What happened? Why?"
   ]
  },
  {
   "cell_type": "markdown",
   "id": "b44d2823-c419-4994-b398-d578ea46bdec",
   "metadata": {},
   "source": [
    "### Task:\n",
    "\n",
    "Now try to use the preceding to answer this question:\n",
    "\n",
    "- Where is the FITS image stored for star S5?"
   ]
  },
  {
   "cell_type": "markdown",
   "id": "8d6ff18f-0f4b-4d07-99d2-22d716174db2",
   "metadata": {},
   "source": [
    "# Python and SQL - the Pandas way\n",
    "\n",
    "The approach above using `sqlite3` will always work regardless of the python installation but it is a bit clunky so you might wonder whether a better way exists, and in a number of contexts the answer is yes. \n",
    "\n",
    "This easier way is provided by `pandas` a fairly heavy but powerful way to interact with tabular data of various types. It is widely used in both academia and industry and hence is a useful tool to know. However this might not be the best approach if your database is very large - caveat emptor."
   ]
  },
  {
   "cell_type": "code",
   "execution_count": 11,
   "id": "3ac68869-2380-4bd8-adc7-9ed223b06253",
   "metadata": {},
   "outputs": [],
   "source": [
    "import pandas as pd"
   ]
  },
  {
   "cell_type": "code",
   "execution_count": 13,
   "id": "76ccd29c-817f-4970-be2f-fe3f59f6a0df",
   "metadata": {},
   "outputs": [],
   "source": [
    "con = lite.connect(\"MLD2025.db\")"
   ]
  },
  {
   "cell_type": "code",
   "execution_count": 14,
   "id": "e39b0d55-c121-4dfe-85d9-470a621bd6b9",
   "metadata": {},
   "outputs": [],
   "source": [
    "t = pd.read_sql_query('Select ra, decl from Stars', con) "
   ]
  },
  {
   "cell_type": "code",
   "execution_count": 15,
   "id": "c08f0c06-6016-4637-9b45-4bcbf90a52a8",
   "metadata": {},
   "outputs": [
    {
     "data": {
      "text/html": [
       "<div>\n",
       "<style scoped>\n",
       "    .dataframe tbody tr th:only-of-type {\n",
       "        vertical-align: middle;\n",
       "    }\n",
       "\n",
       "    .dataframe tbody tr th {\n",
       "        vertical-align: top;\n",
       "    }\n",
       "\n",
       "    .dataframe thead th {\n",
       "        text-align: right;\n",
       "    }\n",
       "</style>\n",
       "<table border=\"1\" class=\"dataframe\">\n",
       "  <thead>\n",
       "    <tr style=\"text-align: right;\">\n",
       "      <th></th>\n",
       "      <th>ra</th>\n",
       "      <th>decl</th>\n",
       "    </tr>\n",
       "  </thead>\n",
       "  <tbody>\n",
       "    <tr>\n",
       "      <th>0</th>\n",
       "      <td>198.847500</td>\n",
       "      <td>10.503472</td>\n",
       "    </tr>\n",
       "    <tr>\n",
       "      <th>1</th>\n",
       "      <td>198.565417</td>\n",
       "      <td>11.023194</td>\n",
       "    </tr>\n",
       "    <tr>\n",
       "      <th>2</th>\n",
       "      <td>198.937083</td>\n",
       "      <td>9.916889</td>\n",
       "    </tr>\n",
       "    <tr>\n",
       "      <th>3</th>\n",
       "      <td>199.251667</td>\n",
       "      <td>10.348694</td>\n",
       "    </tr>\n",
       "  </tbody>\n",
       "</table>\n",
       "</div>"
      ],
      "text/plain": [
       "           ra       decl\n",
       "0  198.847500  10.503472\n",
       "1  198.565417  11.023194\n",
       "2  198.937083   9.916889\n",
       "3  199.251667  10.348694"
      ]
     },
     "execution_count": 15,
     "metadata": {},
     "output_type": "execute_result"
    }
   ],
   "source": [
    "t"
   ]
  },
  {
   "cell_type": "markdown",
   "id": "c0f7f0e3-d217-40c6-9323-11e51774dfa0",
   "metadata": {},
   "source": [
    "### Task: \n",
    "\n",
    "Now use the pandas approach to answer this question:\n",
    "\n",
    "- Give me a list of all stars observed with the same FieldID"
   ]
  },
  {
   "cell_type": "code",
   "execution_count": 22,
   "id": "662cd152-1a6c-486d-acee-c3b3975408a8",
   "metadata": {},
   "outputs": [
    {
     "name": "stdout",
     "output_type": "stream",
     "text": [
      "\n",
      "For Field ID = 1 we have the following stars: \n",
      "   StarID  FieldID Star          ra       decl     g     r\n",
      "0       1        1   S1  198.847500  10.503472  14.5  15.2\n",
      "1       2        1   S2  198.565417  11.023194  15.3  15.4\n",
      "\n",
      "For Field ID = 2 we have the following stars: \n",
      "   StarID  FieldID Star          ra       decl     g     r\n",
      "0       4        2   S7  199.251667  10.348694  14.6  14.1\n",
      "\n",
      "For Field ID = 3 we have the following stars: \n",
      "   StarID  FieldID Star          ra      decl     g     r\n",
      "0       3        3   S5  198.937083  9.916889  16.4  15.8\n"
     ]
    }
   ],
   "source": [
    "for fieldID in (1, 2, 3):\n",
    "    query = 'Select * from Stars where FieldID={0}'.format(fieldID)\n",
    "    t = pd.read_sql_query(query, con)\n",
    "    print(\"\\nFor Field ID = {0} we have the following stars: \".format(fieldID))\n",
    "    print(t)"
   ]
  },
  {
   "cell_type": "code",
   "execution_count": null,
   "id": "418a3ef5-7719-4c49-b9a1-88b40aea65df",
   "metadata": {},
   "outputs": [],
   "source": []
  }
 ],
 "metadata": {
  "kernelspec": {
   "display_name": "Python 3 (ipykernel)",
   "language": "python",
   "name": "python3"
  },
  "language_info": {
   "codemirror_mode": {
    "name": "ipython",
    "version": 3
   },
   "file_extension": ".py",
   "mimetype": "text/x-python",
   "name": "python",
   "nbconvert_exporter": "python",
   "pygments_lexer": "ipython3",
   "version": "3.12.2"
  }
 },
 "nbformat": 4,
 "nbformat_minor": 5
}
