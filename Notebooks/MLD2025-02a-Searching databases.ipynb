{
 "cells": [
  {
   "cell_type": "markdown",
   "id": "fe32a211-d161-43da-9a3f-01b69d2375ee",
   "metadata": {},
   "source": [
    "# Searching data bases\n",
    "\n",
    "This notebook shows a few examples of how to search astronomical databases programatically."
   ]
  },
  {
   "cell_type": "code",
   "execution_count": 1,
   "id": "50672a22-4cf7-4175-85ab-2b786c18aa05",
   "metadata": {},
   "outputs": [],
   "source": [
    "import numpy as np\n",
    "from matplotlib import pyplot as plt\n",
    "# import ipywidgets as widgets"
   ]
  },
  {
   "cell_type": "code",
   "execution_count": 2,
   "id": "c27f8382-bef7-4056-9afe-b0e595ae44d4",
   "metadata": {},
   "outputs": [],
   "source": [
    "import astropy.units as u\n",
    "from astropy.coordinates.sky_coordinate import SkyCoord\n",
    "from astropy.units import Quantity\n",
    "from astroquery.gaia import Gaia  \n",
    "from astroquery.simbad import Simbad\n",
    "from astropy.table import Table"
   ]
  },
  {
   "cell_type": "markdown",
   "id": "688e79d9-5388-48d0-81c1-b73340912851",
   "metadata": {},
   "source": [
    "# Simbad\n",
    "\n",
    "Using Simbad or one of its sub-services such as Vizier is pretty much unavoidable for an astronomer. Astroquery can help you with that (although if you are looking for one object I would go to the web page!):"
   ]
  },
  {
   "cell_type": "code",
   "execution_count": 3,
   "id": "d73e5b4a-cdee-453a-b068-a35e4115574a",
   "metadata": {},
   "outputs": [
    {
     "name": "stdout",
     "output_type": "stream",
     "text": [
      "           MAIN_ID                   RA           DEC      RA_PREC ... COO_QUAL COO_WAVELENGTH     COO_BIBCODE     SCRIPT_NUMBER_ID\n",
      "                                  \"h:m:s\"       \"d:m:s\"            ...                                                             \n",
      "------------------------------ ------------- ------------- ------- ... -------- -------------- ------------------- ----------------\n",
      "               NAME Ori Region   05 35 17.30   -05 23 28.0       6 ...        D              O                                    1\n",
      "                 [FRM2016] 344 05 35 17.2210 -05 23 26.542       9 ...        C              R 2016ApJ...822...93F                1\n",
      "                DOH  7 175-328    05 35 17.5     -05 23 28       5 ...        D                2004AJ....127.3456D                1\n",
      "                       MAX 126   05 35 17.11   -05 23 29.3       6 ...        D              I 2005AJ....129.1534R                1\n",
      "                DOH  7 171-327    05 35 17.1     -05 23 27       5 ...        D                2004AJ....127.3456D                1\n",
      "                       MAX 125   05 35 17.11   -05 23 26.6       6 ...        D              I 2005AJ....129.1534R                1\n",
      "                [OW94] 171-326    05 35 17.1     -05 23 26       5 ...        D                2004AJ....127.3456D                1\n",
      "                DOH  7 171-325    05 35 17.1     -05 23 25       5 ...        D                2004AJ....127.3456D                1\n",
      "                       HH 1143    05 35 17.5     -05 23 25       5 ...        E                2015AJ....150..108O                1\n",
      "                DOH  7 175-324    05 35 17.5     -05 23 24       5 ...        D                2004AJ....127.3456D                1\n",
      "                           ...           ...           ...     ... ...      ...            ...                 ...              ...\n",
      "                 [SEM2016] 103  05 35 10.510  -05 22 25.01       7 ...        C              R 2016ApJ...831..155S                1\n",
      "                    COUP   393 05 35 10.7100 -05 22 20.300       8 ...        C              m 2016ApJ...826...16E                1\n",
      "                       JW  766 05 35 25.0620 -05 22 58.555      14 ...        A              O 2020yCat.1350....0G                1\n",
      "[NW2007] OrionAN-0535181-52129    05 35 18.1     -05 21 29       5 ...        E              m 2007MNRAS.374.1413N                1\n",
      "                [OW94] 130-147    05 35 13.0     -05 21 47       5 ...        D                2002ApJ...566..910T                1\n",
      "                 [GSL2002]  19    05 35 20.3     -05 25 19       5 ...        D                2002ApJ...566..880G                1\n",
      "                  [H97b] 20190 05 35 09.8424 -05 24 12.372      14 ...        C              O 2020yCat.1350....0G                1\n",
      "                  [FRM2016] 23 05 35 09.8424 -05 24 12.372      14 ...        C              O 2020yCat.1350....0G                1\n",
      "                [OW94] 222-503    05 35 22.2     -05 25 03       5 ...        D                2002ApJ...566..910T                1\n",
      "                    MLLA  769B  05 35 21.670  -05 21 47.40       7 ...        C              R 2016ApJ...831..155S                1\n",
      "Length = 1888 rows\n"
     ]
    }
   ],
   "source": [
    "c = SkyCoord(\"05h35m17.3s -05d23m28s\", frame='icrs')\n",
    "r = 2*u.arcmin\n",
    "\n",
    "result = Simbad.query_region(c, radius=r)\n",
    "print(result)"
   ]
  },
  {
   "cell_type": "markdown",
   "id": "d0ce4b0d-cb6a-42d5-98e1-3b99af589b67",
   "metadata": {},
   "source": [
    "# JWST\n",
    "\n",
    "There are several ways to search for JWST data - you can use the MAST service both online and through astroquery, and search through the ESA JWST archive. Here we search for Trappist 1. "
   ]
  },
  {
   "cell_type": "code",
   "execution_count": null,
   "id": "b52c72ab-7063-4d1c-895b-a14a172a7f12",
   "metadata": {},
   "outputs": [],
   "source": [
    "from astroquery.esa.jwst import Jwst\n",
    "Jwst.get_status_messages() # Recommended to do before sending a query"
   ]
  },
  {
   "cell_type": "code",
   "execution_count": null,
   "id": "5b13a0fa-2840-4f92-9762-2b298381f689",
   "metadata": {},
   "outputs": [],
   "source": [
    "ra_trappist1 = \"23h06m29.368s\"\n",
    "dec_trappist1 = \"-05d02m29.04\"\n",
    "coord = SkyCoord(ra=ra_trappist1, dec=dec_trappist1, frame='icrs')"
   ]
  },
  {
   "cell_type": "code",
   "execution_count": null,
   "id": "e265b2b9-4a5d-4881-8dae-bb224505d3c0",
   "metadata": {},
   "outputs": [],
   "source": [
    "j = Jwst.cone_search(coordinate=coord, radius=0.5*u.arcmin, async_job=True)"
   ]
  },
  {
   "cell_type": "code",
   "execution_count": null,
   "id": "46282958-7a7e-4552-96de-894160bdb202",
   "metadata": {},
   "outputs": [],
   "source": [
    "result = j.get_results()"
   ]
  },
  {
   "cell_type": "code",
   "execution_count": null,
   "id": "995d3e55-2156-444c-a28c-60bbfd833823",
   "metadata": {},
   "outputs": [],
   "source": [
    "len(result['instrument_name'])"
   ]
  },
  {
   "cell_type": "markdown",
   "id": "553c68e8-d4b3-4e41-b203-5dd893b4fdb1",
   "metadata": {},
   "source": [
    "### Task: \n",
    "If you have time, combine the two approaches to find how many observations have been made of the Red Rectangle planetary nebula with JWST."
   ]
  },
  {
   "cell_type": "code",
   "execution_count": null,
   "id": "6ea5cb2e-da17-4890-8563-27b131978b37",
   "metadata": {},
   "outputs": [],
   "source": [
    "res = Simbad.query_object(\"Red Rectangle\")"
   ]
  },
  {
   "cell_type": "code",
   "execution_count": null,
   "id": "4e8e493f-b1e5-40e5-9868-abd7f6036fb1",
   "metadata": {},
   "outputs": [],
   "source": [
    "ra_rr = res['RA'][0]\n",
    "dec_rr = res['DEC'][0]\n",
    "coord_rr = SkyCoord(ra=ra_rr, dec=dec_rr, unit=(u.hourangle, u.deg), frame='icrs')"
   ]
  },
  {
   "cell_type": "code",
   "execution_count": null,
   "id": "a2cb88a0-1865-4ae1-b85e-5109df211cc1",
   "metadata": {},
   "outputs": [],
   "source": [
    "j_rr = Jwst.cone_search(coordinate=coord_rr, radius=0.5*u.arcmin, async_job=True)\n"
   ]
  },
  {
   "cell_type": "code",
   "execution_count": null,
   "id": "47e234b5-ac1e-419d-985e-b99373b9a40a",
   "metadata": {},
   "outputs": [],
   "source": [
    "result = j_rr.get_results()\n",
    "print(\"Number of observations = {0}\".format(len(result)))"
   ]
  },
  {
   "cell_type": "markdown",
   "id": "d2283326-cc12-4a73-9b35-4c3062db0f83",
   "metadata": {},
   "source": [
    "# Gaia\n",
    "\n",
    "## Getting an overview of tables\n",
    "\n",
    "It is imperative to get to know what tables are available in a database - without that it is impossible to create searches. We would normally read the documentation for the archive, but here is a way to print all tables."
   ]
  },
  {
   "cell_type": "code",
   "execution_count": null,
   "id": "91f13ab6-baea-43cf-91ce-55fa0485526e",
   "metadata": {},
   "outputs": [],
   "source": [
    "tables = Gaia.load_tables(only_names=True)\n",
    "for table in (tables):\n",
    "    print (table.get_qualified_name())    "
   ]
  },
  {
   "cell_type": "markdown",
   "id": "9d9529c8-f2cc-4365-85c9-2668fa8dd0e9",
   "metadata": {},
   "source": [
    "what you will see here is that there is a lot of repetition - we see both gaiadr2 and gaiadr3 etc. Clearly this is not all we want. So the best is to go to the [Gaia archive](https://www.cosmos.esa.int/web/gaia-users/archive#) - this link is to the documentation. The full structure is recorded in what is called the data model. \n",
    "\n",
    "In the end, however, what you need here is the `gaia_source` table and I will also get this for data release 3 (dr3, currently the latest release). To be concrete, let us search around te centre of the Hyades star cluster. The search will take a bit of time, so we launch it as an asynchronous search and ask for it to be dumped to disk"
   ]
  },
  {
   "cell_type": "code",
   "execution_count": null,
   "id": "26f7e09f-7b25-404f-b3f2-59cb99701c10",
   "metadata": {},
   "outputs": [],
   "source": [
    "search_radius = 6.0/2.0 # In degrees\n",
    "# The position of the Hyades cluster\n",
    "res = Simbad.query_object(\"Hyades\")\n",
    "c = SkyCoord(ra=res['RA'][0], dec=res['DEC'][0], unit=(u.hourangle, u.deg))\n",
    "ra_pos = c.ra.deg\n",
    "dec_pos = c.dec.deg\n",
    "\n",
    "query = \"SELECT * FROM gaiadr3.gaia_source WHERE DISTANCE(ra,dec,{0:.5f},{1:.5f}) <{2:.1f}\".format(ra_pos, dec_pos, search_radius)\n",
    "job   = Gaia.launch_job_async(query, dump_to_file=True)\n",
    "print (job)\n",
    "\n"
   ]
  },
  {
   "cell_type": "code",
   "execution_count": null,
   "id": "3ac990e3-a9a3-4b3c-b864-f05d278753c1",
   "metadata": {},
   "outputs": [],
   "source": [
    "# The tables are stored on disk as VOT tables with peculiar naming. It is a good idea to rename these\n",
    "# to something a bit more useful - although if you are doing something more complex and important you \n",
    "# should store a record of what you did. I have renamed my result to Hyades-Gaia-search.vot.gz  - \n",
    "# If you are in Google Colab this is not helpful because the file would be delete each time you restart \n",
    "# the Colab but for now it is fine. I also converted it to FITS for speeding up.\n",
    "#\n",
    "# If the search above takes too long (quite possible!), then uncomment the lines below and download this file.\n",
    "#\n",
    "# !wget --quiet -O Hyades-Gaia-search.fits https://www.dropbox.com/scl/fi/90kevuc9oa8q9kbny7t9q/Hyades-Gaia-search.fits?rlkey=d65ewv7gxw1vni6scu75r3nx2&dl=0\n",
    "# t = Table().read('Hyades-Gaia-search.fits')"
   ]
  },
  {
   "cell_type": "markdown",
   "id": "fa2550d8-7e26-454f-aca2-247406fd26bb",
   "metadata": {},
   "source": [
    "The Hyades are at at a distance of $\\sim 47$pc, select sources close to this distance and create an approximate HR diagram for these stars."
   ]
  },
  {
   "cell_type": "code",
   "execution_count": null,
   "id": "268d2701-1b76-4336-a199-bfbfcfd8f2c9",
   "metadata": {},
   "outputs": [],
   "source": []
  }
 ],
 "metadata": {
  "kernelspec": {
   "display_name": "Python 3 (ipykernel)",
   "language": "python",
   "name": "python3"
  },
  "language_info": {
   "codemirror_mode": {
    "name": "ipython",
    "version": 3
   },
   "file_extension": ".py",
   "mimetype": "text/x-python",
   "name": "python",
   "nbconvert_exporter": "python",
   "pygments_lexer": "ipython3",
   "version": "3.12.2"
  }
 },
 "nbformat": 4,
 "nbformat_minor": 5
}
