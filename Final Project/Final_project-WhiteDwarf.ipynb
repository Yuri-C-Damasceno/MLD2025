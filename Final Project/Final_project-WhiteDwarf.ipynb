{
 "cells": [
  {
   "cell_type": "markdown",
   "metadata": {},
   "source": [
    "# PCA of white dwarf spectra\n",
    "\n",
    "We will use the library of white dwarf spectra from Pierre Bergeron. The origin is http://www.astro.umontreal.ca/~bergeron/CoolingModels/.  The first functions here read the spectra from this sample in."
   ]
  },
  {
   "cell_type": "code",
   "execution_count": 2,
   "metadata": {},
   "outputs": [],
   "source": [
    "import numpy as np\n",
    "import matplotlib.pyplot as plt\n",
    "from astropy.table import Table\n",
    "import pandas as pd\n",
    "import seaborn as sns\n",
    "import glob\n",
    "from astropy.io import fits\n",
    "\n",
    "%matplotlib inline"
   ]
  },
  {
   "cell_type": "code",
   "execution_count": 3,
   "metadata": {
    "collapsed": false,
    "jupyter": {
     "outputs_hidden": false
    }
   },
   "outputs": [],
   "source": [
    "##\n",
    "## The two first routines here are here in order to document\n",
    "## the full process but you should not need to use them\n",
    "##\n",
    "def load_one_wd_spectrum(logg, T, silent=False):\n",
    "    \"\"\"Load one WD spectrum\n",
    "    \n",
    "    logg: The log surface gravity of the white dwarf\n",
    "    T: The temperature to read in.\n",
    "    silent: If set to True, a failure to find a file will just return in\n",
    "            a return value of None, no message is printed out.\n",
    "            \n",
    "    Return: A dictionary with two keys: Wavelength and Flux. The wavelength is in Angstrom.\n",
    "    \n",
    "    \"\"\"\n",
    "    ROOT = './WhiteDwarfs/'\n",
    "    \n",
    "    pattern = ROOT+\"bergeron_He_*_{0:2d}.dat_{1:d}\".format(int(10*logg), int(T))\n",
    "    \n",
    "    files = glob.glob(pattern)\n",
    "    try:\n",
    "        fname = files[0]\n",
    "    except:\n",
    "        if not silent:\n",
    "            print(\"I did not find anything corresponding to logg={0:.1f}, T={1}\".format(logg, T))\n",
    "        fname = None\n",
    "    \n",
    "    if fname is None:\n",
    "        t = None\n",
    "    else:\n",
    "        tall = Table().read(fname, format='ascii', header_start=1,\n",
    "                         names=('Wavelength', 'Flux'))\n",
    "        tall['Wavelength'] = tall['Wavelength']*10 # Convert to AA\n",
    "        # I only extract the UV-optical region.\n",
    "        t = tall[(tall['Wavelength'] > 900) & (tall['Wavelength'] < 1e4) ]\n",
    "        \n",
    "    return t\n",
    "    \n",
    "def assemble_library():\n",
    "    \"\"\"\n",
    "    Assemble the library of White dwarf spectra.\n",
    "    \n",
    "    Returns a tuple with the wavelength in Ångström, the flux, the logg and T.\n",
    "    \"\"\"\n",
    "    # Extracted from file names with:\n",
    "    # ls bergeron_He_* | perl -ane '{($logg, $T) = ($_ =~ m/bergeron_He_[0-9]+_([0-9]+)\\.dat_([0-9]+)/); print $logg, \"\\n\";}' | sort | uniq\n",
    "    # and similar for the temperature\n",
    "    loggs = [7.0, 7.5, 8.0, 8.5, 9.0]\n",
    "    \n",
    "    Ts = Table().read('./WhiteDwarfs/uniq.Ts', names=['T'], format='ascii',\n",
    "                      data_start=0)\n",
    "    \n",
    "    n_logg = len(loggs)\n",
    "    n_T = len(Ts)\n",
    "    n_tot = n_T*n_logg\n",
    "    counter = 0\n",
    "    first = True\n",
    "    logg_vec = np.zeros(n_tot)\n",
    "    T_vec = np.zeros(n_tot)\n",
    "    for i_g, logg in enumerate(loggs):\n",
    "        for i_T, row in enumerate(Ts):\n",
    "            T = row['T']\n",
    "            sp = load_one_wd_spectrum(logg, float(T), silent=True)\n",
    "            if first:\n",
    "                spec = np.zeros((len(sp['Wavelength']), n_tot))\n",
    "                first = False\n",
    "                wave = sp['Wavelength']\n",
    "                \n",
    "            if sp is None:\n",
    "                # Some combinations of temperature and logg do not exist\n",
    "                n_tot = n_tot-1 \n",
    "                continue\n",
    "                \n",
    "            logg_vec[counter] = logg\n",
    "            T_vec[counter] = T\n",
    "            spec[:, counter] = sp['Flux']\n",
    "            counter = counter+1\n",
    "            \n",
    "    return wave, spec[:, 0:n_tot].T, logg_vec[0:n_tot], T_vec[0:n_tot]\n",
    "\n",
    "def save_fits_compilation(l, f, logg, T):\n",
    "    \"\"\"For convenience, save a single FITS file with all the information\n",
    "    \"\"\"\n",
    "\n",
    "    hdul = fits.HDUList()\n",
    "    # Add a primary HDU\n",
    "    hdul.append(fits.PrimaryHDU())\n",
    "\n",
    "    names = ['Wave', 'Flux', 'Logg', 'Temp']\n",
    "    for i, x in enumerate([l, f, logg, T]):\n",
    "        hdu = fits.ImageHDU(x)\n",
    "        hdu.name = names[i]\n",
    "        hdul.append(hdu)\n",
    "\n",
    "    hdul.writeto(\"WhiteDwarf_data.fits\", overwrite=True)\n",
    "    \n",
    "    \n",
    "def load_wd_spectra_from_fits():\n",
    "    \"\"\"Load in the FITS file created by save_fits_compilation\n",
    "    \n",
    "    Returns:\n",
    "        l : numpy array\n",
    "            The wavelength array (in Angstrom) with n_lambda elements\n",
    "        f : numpy array\n",
    "            The flux array with shape n_models x n_lambda\n",
    "        logg : numpy array\n",
    "            The surface gravity of each model with n_models elements.\n",
    "        T : numpy array\n",
    "            The effective temperature of each model with n_models elements\n",
    "    \"\"\"\n",
    "\n",
    "    fname = \"WhiteDwarf_data.fits\"\n",
    "    hdul = fits.open(fname)\n",
    "    l = hdul['Wave'].data\n",
    "    f = hdul['Flux'].data\n",
    "    logg = hdul['Logg'].data\n",
    "    T = hdul['Temp'].data\n",
    "    return l, f, logg, T"
   ]
  },
  {
   "cell_type": "code",
   "execution_count": 4,
   "metadata": {
    "collapsed": false,
    "jupyter": {
     "outputs_hidden": false
    }
   },
   "outputs": [],
   "source": [
    "# If you want to create the FITS file or load from the ASCII files\n",
    "# directly you can uncomment the lines below.\n",
    "# l, f, logg, T = assemble_library()\n",
    "# save_fits_compilation(l, f, logg, T)"
   ]
  },
  {
   "cell_type": "code",
   "execution_count": 5,
   "metadata": {},
   "outputs": [],
   "source": [
    "l, f, logg, T = load_wd_spectra_from_fits()"
   ]
  },
  {
   "cell_type": "code",
   "execution_count": null,
   "metadata": {},
   "outputs": [],
   "source": []
  },
  {
   "cell_type": "markdown",
   "metadata": {},
   "source": [
    "### a) Visualisation\n",
    "\n",
    "Create a nice visualisation of the spectral library following the guidelines in the lectures. You may or may not show the whole library and there should be a way to infer the temperature of each model shown."
   ]
  },
  {
   "cell_type": "markdown",
   "metadata": {},
   "source": [
    "### b) PCA or NFM factorisation\n",
    "\n",
    "Develop an algorithm to reconstruct the spectrum of the white dwarf in the optical region such that less than 5% of the spectra have bad reconstructions, where we define a bad reconstruction to be one where more than 5% of the wavelength points (in the optical) have  \n",
    "$$\\frac{\\left|f_{\\mathrm{true}}-f_{\\mathrm{recon}}\\right|}{f_{\\mathrm{true}}} > 0.1$$"
   ]
  },
  {
   "cell_type": "markdown",
   "metadata": {
    "collapsed": false,
    "jupyter": {
     "outputs_hidden": false
    }
   },
   "source": [
    "### c) Estimate PCA or NFM components using density estimators.\n",
    "\n",
    "Create a kernel density estimate for each principal component and draw random principal components from this KDE. Implement this and explain why/why not this is a good way to create random spectra. Suggest one additional way to create random spectra and contrast the methods.\n"
   ]
  },
  {
   "cell_type": "code",
   "execution_count": null,
   "metadata": {},
   "outputs": [],
   "source": []
  }
 ],
 "metadata": {
  "kernelspec": {
   "display_name": "Python 3 (ipykernel)",
   "language": "python",
   "name": "python3"
  },
  "language_info": {
   "codemirror_mode": {
    "name": "ipython",
    "version": 3
   },
   "file_extension": ".py",
   "mimetype": "text/x-python",
   "name": "python",
   "nbconvert_exporter": "python",
   "pygments_lexer": "ipython3",
   "version": "3.12.2"
  }
 },
 "nbformat": 4,
 "nbformat_minor": 4
}
